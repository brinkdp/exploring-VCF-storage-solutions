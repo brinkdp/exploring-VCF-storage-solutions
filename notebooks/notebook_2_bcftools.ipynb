{
 "cells": [
  {
   "cell_type": "markdown",
   "id": "59109fa1-1472-4ca6-88d3-207f09b71d7c",
   "metadata": {},
   "source": [
    "# Exploring VCF Storage Solutions\n",
    "# Notebook 2. List of common bcftools operations\n",
    "2025-02-12 Daniel P. Brink\n",
    "\n",
    "This notebook is Work-in-progress. It will be updated as new commands \n",
    "\n",
    "# 1. Introduction\n",
    "\n",
    "The purpose of this notebook is to make an inventory of some common VCF queries and operations that the `bcftools` CLI is able to do. As such, it might serve more as a reference point than an exploratory notebook. Readers that are already familiar with `bcftools` might want to skip forward to the next notebooks.\n",
    "\n",
    "The examples will be based on the [official documentation for `bcftools`](https://samtools.github.io/bcftools/bcftools.html). See also\n",
    "examples on [queries](https://samtools.github.io/bcftools/howtos/query.html) and [filtering](https://samtools.github.io/bcftools/howtos/filtering.html) operations.\n"
   ]
  },
  {
   "cell_type": "markdown",
   "id": "1fba1a78-d9f3-4661-9182-7bf2610d642a",
   "metadata": {},
   "source": [
    "# 2. Setup\n",
    "\n",
    "Since we will mainly be using `bcftools` in this notebook, we will use the same conda environment used in notebook 1. It was installed with the following commands:\n",
    "\n",
    "```bash\n",
    "CONDA_SUBDIR=osx-64 conda create -n explore_vcf_storage_solutions\n",
    "conda activate explore_vcf_storage_solutions\n",
    "conda install mamba -y\n",
    "mamba install jupyter -y\n",
    "mamba install bcftools -y \n",
    "pip install humanfriendly\n",
    "```\n"
   ]
  },
  {
   "cell_type": "code",
   "execution_count": 2,
   "id": "9081702f-f43b-470d-a8dc-994ceafe7112",
   "metadata": {
    "scrolled": true
   },
   "outputs": [
    {
     "name": "stdout",
     "output_type": "stream",
     "text": [
      "Current Conda environment: explore_vcf_storage_solutions\n",
      "Current Python version: 3.13.1 | packaged by conda-forge | (main, Jan 13 2025, 09:48:16) [Clang 18.1.8 ]\n",
      "bcftools 1.21\n",
      "Using htslib 1.21\n",
      "Copyright (C) 2024 Genome Research Ltd.\n",
      "License GPLv3+: GNU GPL version 3 or later <http://gnu.org/licenses/gpl.html>\n",
      "This is free software: you are free to change and redistribute it.\n",
      "There is NO WARRANTY, to the extent permitted by law.\n"
     ]
    }
   ],
   "source": [
    "import sys\n",
    "import os\n",
    "import requests\n",
    "import humanfriendly\n",
    "\n",
    "#Check that Conda and the libraries are installed as expected:\n",
    "print(f\"Current Conda environment: {os.environ['CONDA_DEFAULT_ENV']}\")\n",
    "print(f\"Current Python version: {sys.version}\")\n",
    "!bcftools --version"
   ]
  },
  {
   "cell_type": "markdown",
   "id": "7f8f56b6-57ff-4506-8304-deb31435e91d",
   "metadata": {},
   "source": [
    "# 3. Commonly used bcftools operations\n",
    "\n",
    "`bcftools` is a toolbox that can perform a wide range of operations from variant calling, annotation, and format conversion to queries, filtering, and subsetting. For the intents and purposes of the subsequent notebooks, we will mainly be using the following commands:\n",
    "\n",
    "- `bcftools view`\n",
    "- `bcftools merge`\n",
    "- `bcftools query`\n"
   ]
  },
  {
   "cell_type": "code",
   "execution_count": 1,
   "id": "133a6b8b-4d6d-4626-acca-6794364028d9",
   "metadata": {},
   "outputs": [],
   "source": [
    "downsampled_vcf_gz = \"./input_data_temp/1kG_p3_chr1_first_200_samples_c1.vcf.gz\"\n",
    "downsampled_bcf=\"./input_data_temp/1kG_p3_chr1_first_200_samples_c1.bcf\""
   ]
  },
  {
   "cell_type": "markdown",
   "id": "9fb3e211-a0ce-4f79-b950-86bab87c3d08",
   "metadata": {},
   "source": [
    "## 3.1. Commonly used flags\n",
    "\n",
    "- --no-header\n",
    "- --header-only \n",
    "- --no-version\n",
    "- -o\n",
    "- -Ob\n",
    "- -OZ "
   ]
  },
  {
   "cell_type": "markdown",
   "id": "87bc1544-a98c-45a6-83c8-7bc5ead9a387",
   "metadata": {},
   "source": [
    "## 3.2. Subset VCF on sample names\n",
    "Subsetting a VCF based on sample name was already demonstrated in Notebook 1 when subsetting on the first 200 samples. But for quick reference, here is a command to subset on two samples named `HG00096` and `HG00097`. The `-s` flag takes a list of sample names as input.\n",
    "\n",
    "(In order not to print a million lines to the output, skip the header and print only the first ten variant. `2>/dev/null` is to avoid a _broken pipe_ error in Jupyter)."
   ]
  },
  {
   "cell_type": "code",
   "execution_count": 3,
   "id": "6f152a48-7bfd-4b25-8f4a-f6b70768fc12",
   "metadata": {
    "scrolled": true
   },
   "outputs": [
    {
     "name": "stdout",
     "output_type": "stream",
     "text": [
      "1\t10177\trs367896724\tA\tAC\t100\tPASS\tAC=2;AF=0.425319;AN=4;NS=2504;DP=103152;EAS_AF=0.3363;AMR_AF=0.3602;AFR_AF=0.4909;EUR_AF=0.4056;SAS_AF=0.4949;AA=|||unknown(NO_COVERAGE);VT=INDEL\tGT\t1|0\t0|1\n",
      "1\t10352\trs555500075\tT\tTA\t100\tPASS\tAC=2;AF=0.4375;AN=4;NS=2504;DP=88915;EAS_AF=0.4306;AMR_AF=0.4107;AFR_AF=0.4788;EUR_AF=0.4264;SAS_AF=0.4192;AA=|||unknown(NO_COVERAGE);VT=INDEL\tGT\t1|0\t1|0\n",
      "1\t10616\trs376342519\tCCGCCGTTGCAAAGGCGCGCCG\tC\t100\tPASS\tAC=4;AF=0.993011;AN=4;NS=2504;DP=2365;EAS_AF=0.9911;AMR_AF=0.9957;AFR_AF=0.9894;EUR_AF=0.994;SAS_AF=0.9969;VT=INDEL\tGT\t1|1\t1|1\n",
      "1\t11008\trs575272151\tC\tG\t100\tPASS\tAC=0;AF=0.0880591;AN=4;NS=2504;DP=2232;EAS_AF=0.0367;AMR_AF=0.0965;AFR_AF=0.1346;EUR_AF=0.0885;SAS_AF=0.0716;AA=.|||;VT=SNP\tGT\t0|0\t0|0\n",
      "1\t11012\trs544419019\tC\tG\t100\tPASS\tAC=0;AF=0.0880591;AN=4;NS=2504;DP=2090;EAS_AF=0.0367;AMR_AF=0.0965;AFR_AF=0.1346;EUR_AF=0.0885;SAS_AF=0.0716;AA=.|||;VT=SNP\tGT\t0|0\t0|0\n",
      "1\t13110\trs540538026\tG\tA\t100\tPASS\tAC=1;AF=0.0267572;AN=4;NS=2504;DP=23422;EAS_AF=0.002;AMR_AF=0.036;AFR_AF=0.0053;EUR_AF=0.0567;SAS_AF=0.044;AA=g|||;VT=SNP\tGT\t0|0\t1|0\n",
      "1\t13116\trs62635286\tT\tG\t100\tPASS\tAC=1;AF=0.0970447;AN=4;NS=2504;DP=22340;EAS_AF=0.0248;AMR_AF=0.121;AFR_AF=0.0295;EUR_AF=0.1869;SAS_AF=0.1534;AA=t|||;VT=SNP\tGT\t0|0\t1|0\n",
      "1\t13118\trs200579949\tA\tG\t100\tPASS\tAC=1;AF=0.0970447;AN=4;NS=2504;DP=21395;EAS_AF=0.0248;AMR_AF=0.121;AFR_AF=0.0295;EUR_AF=0.1869;SAS_AF=0.1534;AA=a|||;VT=SNP\tGT\t0|0\t1|0\n",
      "1\t13273\trs531730856\tG\tC\t100\tPASS\tAC=0;AF=0.0950479;AN=4;NS=2504;DP=29117;EAS_AF=0.0625;AMR_AF=0.1455;AFR_AF=0.0204;EUR_AF=0.1471;SAS_AF=0.1401;AA=g|||;VT=SNP\tGT\t0|0\t0|0\n",
      "1\t13543\trs540466151\tT\tG\t100\tPASS\tAC=0;AF=0.000599042;AN=4;NS=2504;DP=40768;EAS_AF=0.003;AMR_AF=0;AFR_AF=0;EUR_AF=0;SAS_AF=0;AA=t|||;VT=SNP\tGT\t0|0\t0|0\n",
      "CPU times: user 3.73 ms, sys: 15.7 ms, total: 19.5 ms\n",
      "Wall time: 186 ms\n"
     ]
    }
   ],
   "source": [
    "%%time\n",
    "!bcftools view -s HG00096,HG00097 --no-header {downsampled_bcf} 2>/dev/null  | head -n 10"
   ]
  },
  {
   "cell_type": "markdown",
   "id": "d2a8146b-c48b-466d-99df-a9cc5c4bcd0d",
   "metadata": {},
   "source": [
    "## 3.3. Extract specific columns from the VCF\n",
    "\n",
    "here: the CHROM, POST, and INFO columns"
   ]
  },
  {
   "cell_type": "code",
   "execution_count": 8,
   "id": "e4138e6f-c39d-4cb8-b722-3d7bdf9142f5",
   "metadata": {},
   "outputs": [
    {
     "name": "stdout",
     "output_type": "stream",
     "text": [
      "1\t10177\tAC=116;AF=0.425319;AN=400;NS=2504;DP=103152;EAS_AF=0.3363;AMR_AF=0.3602;AFR_AF=0.4909;EUR_AF=0.4056;SAS_AF=0.4949;AA=|||unknown(NO_COVERAGE);VT=INDEL\n",
      "1\t10352\tAC=158;AF=0.4375;AN=400;NS=2504;DP=88915;EAS_AF=0.4306;AMR_AF=0.4107;AFR_AF=0.4788;EUR_AF=0.4264;SAS_AF=0.4192;AA=|||unknown(NO_COVERAGE);VT=INDEL\n",
      "1\t10616\tAC=397;AF=0.993011;AN=400;NS=2504;DP=2365;EAS_AF=0.9911;AMR_AF=0.9957;AFR_AF=0.9894;EUR_AF=0.994;SAS_AF=0.9969;VT=INDEL\n",
      "1\t11008\tAC=34;AF=0.0880591;AN=400;NS=2504;DP=2232;EAS_AF=0.0367;AMR_AF=0.0965;AFR_AF=0.1346;EUR_AF=0.0885;SAS_AF=0.0716;AA=.|||;VT=SNP\n",
      "1\t11012\tAC=34;AF=0.0880591;AN=400;NS=2504;DP=2090;EAS_AF=0.0367;AMR_AF=0.0965;AFR_AF=0.1346;EUR_AF=0.0885;SAS_AF=0.0716;AA=.|||;VT=SNP\n",
      "1\t13110\tAC=20;AF=0.0267572;AN=400;NS=2504;DP=23422;EAS_AF=0.002;AMR_AF=0.036;AFR_AF=0.0053;EUR_AF=0.0567;SAS_AF=0.044;AA=g|||;VT=SNP\n",
      "1\t13116\tAC=70;AF=0.0970447;AN=400;NS=2504;DP=22340;EAS_AF=0.0248;AMR_AF=0.121;AFR_AF=0.0295;EUR_AF=0.1869;SAS_AF=0.1534;AA=t|||;VT=SNP\n",
      "1\t13118\tAC=70;AF=0.0970447;AN=400;NS=2504;DP=21395;EAS_AF=0.0248;AMR_AF=0.121;AFR_AF=0.0295;EUR_AF=0.1869;SAS_AF=0.1534;AA=a|||;VT=SNP\n",
      "1\t13273\tAC=44;AF=0.0950479;AN=400;NS=2504;DP=29117;EAS_AF=0.0625;AMR_AF=0.1455;AFR_AF=0.0204;EUR_AF=0.1471;SAS_AF=0.1401;AA=g|||;VT=SNP\n",
      "1\t13543\tAC=1;AF=0.000599042;AN=400;NS=2504;DP=40768;EAS_AF=0.003;AMR_AF=0;AFR_AF=0;EUR_AF=0;SAS_AF=0;AA=t|||;VT=SNP\n"
     ]
    }
   ],
   "source": [
    "!bcftools query -f '%CHROM\\t%POS\\t%INFO\\n' {downsampled_bcf} 2>/dev/null  | head -n 10"
   ]
  },
  {
   "cell_type": "markdown",
   "id": "903a0ca7-e649-49b3-a276-c5e854fa0150",
   "metadata": {},
   "source": [
    "## 3.4. Subset on a specific variant type\n",
    "Here: INDELs. \n",
    "\n",
    "There are two ways: either based on the annotation in the INFO column:"
   ]
  },
  {
   "cell_type": "code",
   "execution_count": null,
   "id": "75010fdd-e6fd-4747-a734-1ddce7ce2ff7",
   "metadata": {},
   "outputs": [],
   "source": [
    "!bcftools view --no-header -i 'INFO/VT=\"INDEL\"' {downsampled_bcf} | wc -l"
   ]
  },
  {
   "cell_type": "markdown",
   "id": "b3f59702-5901-4c46-b86b-791a973781ce",
   "metadata": {},
   "source": [
    "or by calculate it based on the values of the REF and ALT columns:"
   ]
  },
  {
   "cell_type": "code",
   "execution_count": null,
   "id": "a20f3c40-6349-4b7f-a834-f1b8161a2b2f",
   "metadata": {},
   "outputs": [],
   "source": [
    "!bcftools view --no-header -v indels {downsampled_bcf} | wc -l"
   ]
  },
  {
   "cell_type": "markdown",
   "id": "bbe53e6a-8049-4543-95bf-6fc143437637",
   "metadata": {},
   "source": [
    "Note that these two methods might give different results!"
   ]
  },
  {
   "cell_type": "markdown",
   "id": "5db6b2bf-b9c7-4943-ac45-c64fd431c5e3",
   "metadata": {},
   "source": [
    "## 3.5. Subset on a genomic range\n",
    "\n",
    "This is done with the flag `-r`. We need to set the region (i.e. scaffold name) and the coordinate of the desired range. In the example data, chr1 is named 1. To get the first 15000 bp from chr1, we can thus do: "
   ]
  },
  {
   "cell_type": "code",
   "execution_count": 15,
   "id": "bf430b74-7baf-498f-a4e4-8c4e0dbb3cb3",
   "metadata": {
    "scrolled": true
   },
   "outputs": [
    {
     "name": "stdout",
     "output_type": "stream",
     "text": [
      "1\t10177\trs367896724\tA\tAC\t100\tPASS\tAC=116;AF=0.425319;AN=400;NS=2504;DP=103152;EAS_AF=0.3363;AMR_AF=0.3602;AFR_AF=0.4909;EUR_AF=0.4056;SAS_AF=0.4949;AA=|||unknown(NO_COVERAGE);VT=INDEL\tGT\t1|0\t0|1\t0|1\t1|0\t0|0\t1|0\t1|0\t1|0\t1|0\t0|0\t0|0\t0|0\t0|0\t0|0\t0|0\t0|0\t0|1\t1|0\t0|0\t0|0\t1|0\t0|0\t0|0\t0|0\t0|1\t1|0\t0|1\t0|1\t0|1\t0|1\t1|0\t0|0\t1|0\t1|0\t0|0\t0|1\t0|0\t0|0\t1|0\t0|1\t1|0\t0|0\t1|0\t1|0\t0|0\t1|0\t0|1\t0|1\t0|0\t0|0\t1|0\t1|0\t0|0\t0|0\t0|1\t0|0\t0|0\t1|0\t1|1\t1|0\t0|1\t0|0\t0|0\t1|1\t0|1\t0|0\t0|1\t0|1\t0|0\t1|0\t1|0\t1|0\t0|1\t0|0\t1|0\t1|0\t1|0\t0|0\t1|0\t0|0\t0|1\t0|1\t1|0\t0|1\t1|1\t0|0\t0|1\t0|0\t1|0\t0|0\t0|0\t1|0\t0|0\t0|0\t0|0\t1|0\t1|0\t0|0\t0|1\t0|0\t1|0\t0|0\t1|0\t0|1\t1|0\t0|1\t0|1\t0|1\t1|0\t1|0\t0|0\t0|0\t0|0\t0|0\t0|0\t1|0\t0|1\t0|0\t0|0\t0|0\t0|1\t1|0\t1|0\t1|0\t1|0\t1|0\t0|0\t0|1\t0|1\t0|0\t0|0\t0|0\t0|0\t1|0\t0|1\t0|0\t0|0\t0|0\t0|1\t0|1\t1|0\t0|0\t0|0\t0|0\t1|0\t0|0\t1|0\t0|0\t0|1\t0|1\t0|0\t0|0\t0|1\t0|0\t1|0\t0|0\t0|1\t1|0\t0|1\t0|0\t1|0\t1|0\t0|0\t0|1\t1|1\t0|0\t1|1\t0|1\t0|0\t1|0\t1|0\t0|1\t0|0\t0|1\t0|0\t0|0\t0|0\t0|0\t0|0\t0|0\t0|1\t0|0\t0|0\t0|0\t0|1\t0|1\t1|0\t0|1\t0|0\t0|0\t0|1\t1|0\t0|0\t0|0\t1|0\t0|0\t1|0\t0|0\t0|0\t0|0\n",
      "=158;AF=0.4375;AN=400;NS=2504;DP=88915;EAS_AF=0.4306;AMR_AF=0.4107;AFR_AF=0.4788;EUR_AF=0.4264;SAS_AF=0.4192;AA=|||unknown(NO_COVERAGE);VT=INDEL\tGT\t1|0\t1|0\t0|1\t0|1\t1|0\t1|0\t1|0\t0|0\t0|1\t0|0\t0|1\t1|0\t0|1\t0|1\t1|0\t1|0\t1|1\t1|0\t1|0\t0|0\t1|0\t0|0\t0|0\t0|0\t0|1\t1|0\t0|0\t1|0\t1|0\t0|1\t0|0\t0|0\t1|0\t0|1\t1|0\t0|1\t1|0\t0|1\t1|0\t1|0\t1|0\t0|1\t1|0\t0|1\t0|0\t1|0\t0|1\t1|1\t1|0\t1|0\t0|0\t0|1\t0|0\t0|0\t0|0\t1|1\t1|1\t1|0\t1|0\t1|0\t1|0\t0|1\t0|0\t1|0\t0|1\t0|1\t0|1\t1|0\t1|1\t0|1\t0|1\t0|1\t0|1\t0|0\t0|1\t0|0\t1|0\t0|0\t0|1\t0|1\t0|1\t0|0\t1|0\t1|0\t1|0\t0|1\t0|1\t0|0\t0|1\t1|0\t0|1\t0|1\t0|0\t1|0\t0|1\t1|0\t0|1\t1|0\t1|0\t0|0\t0|1\t0|0\t1|0\t0|1\t1|0\t0|1\t0|1\t0|1\t1|0\t0|1\t1|0\t1|0\t1|0\t0|0\t0|0\t0|1\t0|1\t1|0\t0|0\t1|0\t1|0\t0|1\t1|0\t1|0\t1|0\t0|0\t0|1\t0|1\t1|0\t0|0\t1|0\t1|0\t0|1\t1|0\t1|0\t0|0\t1|0\t1|0\t1|0\t0|1\t0|0\t0|0\t0|0\t0|1\t0|0\t0|1\t0|1\t0|0\t0|1\t0|0\t0|1\t1|0\t0|1\t1|1\t1|0\t0|0\t1|0\t1|0\t0|1\t0|1\t0|1\t0|0\t1|0\t0|0\t0|1\t1|0\t0|1\t1|0\t0|0\t1|0\t1|1\t0|1\t1|0\t0|0\t0|1\t0|1\t0|0\t0|1\t0|1\t1|0\t0|1\t0|0\t0|0\t0|1\t0|0\t0|0\t1|0\t0|1\t0|1\t0|1\t1|0\t0|1\t1|0\t0|0\t0|0\t0|0\t0|1\t0|1\t0|0\t1|0\n",
      "1\t10616\trs376342519\tCCGCCGTTGCAAAGGCGCGCCG\tC\t100\tPASS\tAC=397;AF=0.993011;AN=400;NS=2504;DP=2365;EAS_AF=0.9911;AMR_AF=0.9957;AFR_AF=0.9894;EUR_AF=0.994;SAS_AF=0.9969;VT=INDEL\tGT\t1|1\t1|1\t1|1\t1|1\t1|1\t1|1\t1|1\t1|1\t1|1\t1|1\t1|1\t1|1\t1|1\t1|1\t1|1\t1|1\t1|1\t1|1\t1|1\t1|1\t1|1\t1|1\t1|1\t1|1\t1|1\t1|1\t1|1\t1|1\t1|1\t1|1\t1|1\t1|1\t1|1\t1|1\t1|1\t1|1\t1|1\t1|1\t1|1\t1|1\t1|1\t1|1\t1|1\t1|1\t1|1\t1|1\t1|1\t1|1\t1|1\t1|1\t1|1\t1|1\t1|1\t1|1\t1|1\t1|1\t1|1\t1|1\t1|1\t1|1\t1|1\t1|1\t1|1\t1|1\t1|1\t1|1\t1|1\t1|1\t1|1\t1|1\t1|1\t1|1\t1|1\t1|1\t1|1\t1|1\t1|1\t1|1\t1|1\t1|1\t1|1\t1|1\t1|1\t1|1\t1|1\t1|1\t1|1\t1|1\t1|1\t1|1\t1|1\t1|1\t1|1\t1|1\t1|1\t1|1\t1|1\t1|1\t1|1\t1|1\t1|1\t1|1\t1|1\t1|1\t1|0\t1|1\t1|1\t1|1\t1|1\t1|1\t1|1\t1|1\t1|1\t1|1\t1|1\t1|1\t1|1\t1|1\t1|1\t1|1\t1|1\t1|1\t1|1\t1|1\t1|1\t1|1\t1|1\t1|1\t1|1\t1|1\t1|1\t1|1\t1|1\t1|1\t1|1\t1|1\t1|1\t1|1\t1|1\t1|1\t1|1\t1|1\t1|0\t1|1\t1|1\t1|1\t1|1\t1|1\t1|1\t1|1\t1|1\t1|1\t1|1\t1|1\t1|1\t1|1\t1|1\t1|0\t1|1\t1|1\t1|1\t1|1\t1|1\t1|1\t1|1\t1|1\t1|1\t1|1\t1|1\t1|1\t1|1\t1|1\t1|1\t1|1\t1|1\t1|1\t1|1\t1|1\t1|1\t1|1\t1|1\t1|1\t1|1\t1|1\t1|1\t1|1\t1|1\t1|1\t1|1\t1|1\t1|1\t1|1\t1|1\t1|1\t1|1\t1|1\t1|1\t1|1\t1|1\t1|1\n",
      "1\t11008\trs575272151\tC\tG\t100\tPASS\tAC=34;AF=0.0880591;AN=400;NS=2504;DP=2232;EAS_AF=0.0367;AMR_AF=0.0965;AFR_AF=0.1346;EUR_AF=0.0885;SAS_AF=0.0716;AA=.|||;VT=SNP\tGT\t0|0\t0|0\t0|0\t0|0\t0|0\t0|1\t0|1\t0|0\t0|0\t0|0\t0|0\t0|0\t0|0\t0|0\t0|0\t0|0\t0|0\t0|0\t0|0\t0|0\t1|0\t0|0\t0|0\t0|0\t0|0\t1|0\t0|1\t0|0\t0|0\t1|1\t0|0\t0|0\t1|0\t0|0\t0|0\t0|1\t0|0\t1|0\t0|1\t1|0\t0|0\t0|0\t0|0\t0|0\t0|0\t0|0\t0|0\t0|0\t0|0\t0|0\t0|1\t0|0\t0|0\t0|0\t0|0\t0|0\t0|1\t0|1\t0|0\t0|0\t0|0\t0|0\t0|1\t0|0\t0|0\t0|0\t0|0\t0|0\t0|0\t0|0\t0|0\t0|0\t0|0\t0|0\t0|0\t0|0\t0|0\t0|0\t0|0\t0|0\t0|0\t0|0\t0|0\t0|0\t0|0\t0|0\t0|0\t0|0\t0|0\t0|0\t0|0\t0|0\t0|0\t0|0\t0|0\t0|0\t0|0\t0|0\t0|0\t1|0\t0|0\t0|0\t0|0\t0|0\t0|1\t1|0\t0|0\t0|0\t0|0\t0|0\t0|1\t0|0\t0|0\t1|0\t1|0\t0|0\t0|1\t0|0\t0|0\t0|0\t0|0\t0|0\t0|0\t0|0\t0|1\t0|0\t0|0\t0|0\t0|0\t0|0\t0|0\t0|0\t0|0\t0|0\t0|0\t0|0\t0|0\t0|0\t0|0\t0|0\t0|0\t0|0\t0|1\t0|0\t0|0\t0|0\t0|0\t0|0\t0|0\t0|0\t0|0\t0|1\t0|0\t0|0\t0|0\t0|0\t0|0\t0|1\t0|0\t0|0\t0|0\t1|1\t0|0\t0|0\t0|0\t0|0\t0|0\t0|0\t0|0\t1|0\t0|0\t0|0\t0|0\t0|0\t0|0\t0|0\t0|1\t0|0\t0|0\t0|1\t1|0\t0|0\t0|0\t0|0\t0|0\t0|0\t0|0\t0|0\t0|0\t0|0\t1|0\t0|0\t0|0\t0|0\t0|0\t0|0\t0|0\t0|0\t0|0\t0|0\n",
      "1\t11012\trs544419019\tC\tG\t100\tPASS\tAC=34;AF=0.0880591;AN=400;NS=2504;DP=2090;EAS_AF=0.0367;AMR_AF=0.0965;AFR_AF=0.1346;EUR_AF=0.0885;SAS_AF=0.0716;AA=.|||;VT=SNP\tGT\t0|0\t0|0\t0|0\t0|0\t0|0\t0|1\t0|1\t0|0\t0|0\t0|0\t0|0\t0|0\t0|0\t0|0\t0|0\t0|0\t0|0\t0|0\t0|0\t0|0\t1|0\t0|0\t0|0\t0|0\t0|0\t1|0\t0|1\t0|0\t0|0\t1|1\t0|0\t0|0\t1|0\t0|0\t0|0\t0|1\t0|0\t1|0\t0|1\t1|0\t0|0\t0|0\t0|0\t0|0\t0|0\t0|0\t0|0\t0|0\t0|0\t0|0\t0|1\t0|0\t0|0\t0|0\t0|0\t0|0\t0|1\t0|1\t0|0\t0|0\t0|0\t0|0\t0|1\t0|0\t0|0\t0|0\t0|0\t0|0\t0|0\t0|0\t0|0\t0|0\t0|0\t0|0\t0|0\t0|0\t0|0\t0|0\t0|0\t0|0\t0|0\t0|0\t0|0\t0|0\t0|0\t0|0\t0|0\t0|0\t0|0\t0|0\t0|0\t0|0\t0|0\t0|0\t0|0\t0|0\t0|0\t0|0\t0|0\t1|0\t0|0\t0|0\t0|0\t0|0\t0|1\t1|0\t0|0\t0|0\t0|0\t0|0\t0|1\t0|0\t0|0\t1|0\t1|0\t0|0\t0|1\t0|0\t0|0\t0|0\t0|0\t0|0\t0|0\t0|0\t0|1\t0|0\t0|0\t0|0\t0|0\t0|0\t0|0\t0|0\t0|0\t0|0\t0|0\t0|0\t0|0\t0|0\t0|0\t0|0\t0|0\t0|0\t0|1\t0|0\t0|0\t0|0\t0|0\t0|0\t0|0\t0|0\t0|0\t0|1\t0|0\t0|0\t0|0\t0|0\t0|0\t0|1\t0|0\t0|0\t0|0\t1|1\t0|0\t0|0\t0|0\t0|0\t0|0\t0|0\t0|0\t1|0\t0|0\t0|0\t0|0\t0|0\t0|0\t0|0\t0|1\t0|0\t0|0\t0|1\t1|0\t0|0\t0|0\t0|0\t0|0\t0|0\t0|0\t0|0\t0|0\t0|0\t1|0\t0|0\t0|0\t0|0\t0|0\t0|0\t0|0\t0|0\t0|0\t0|0\n",
      "1\t13110\trs540538026\tG\tA\t100\tPASS\tAC=20;AF=0.0267572;AN=400;NS=2504;DP=23422;EAS_AF=0.002;AMR_AF=0.036;AFR_AF=0.0053;EUR_AF=0.0567;SAS_AF=0.044;AA=g|||;VT=SNP\tGT\t0|0\t1|0\t0|0\t0|0\t0|0\t0|0\t0|0\t0|0\t0|0\t0|0\t0|1\t0|0\t0|0\t0|0\t0|0\t0|0\t0|0\t0|0\t0|1\t0|0\t0|0\t0|0\t0|0\t1|0\t0|0\t0|1\t0|0\t0|0\t0|0\t0|0\t0|0\t0|0\t0|0\t0|0\t0|0\t0|0\t0|0\t0|0\t0|0\t0|0\t0|0\t0|0\t0|0\t0|0\t0|0\t0|0\t0|0\t0|0\t0|0\t0|0\t0|0\t0|0\t0|0\t0|0\t0|0\t0|0\t0|0\t0|0\t0|0\t0|0\t0|0\t0|0\t0|0\t0|0\t0|0\t0|0\t0|0\t0|0\t0|0\t0|0\t0|0\t0|0\t0|0\t0|0\t0|1\t0|0\t0|0\t0|0\t0|0\t0|0\t0|0\t0|0\t0|0\t0|0\t0|0\t0|0\t0|0\t0|0\t0|1\t0|0\t0|1\t0|0\t0|0\t0|0\t0|0\t0|0\t1|0\t0|0\t0|0\t0|0\t0|1\t1|0\t0|0\t0|0\t0|0\t0|0\t0|0\t0|0\t0|0\t0|0\t0|0\t0|0\t0|0\t0|0\t0|0\t0|0\t0|0\t0|0\t0|0\t0|0\t0|0\t0|0\t0|0\t0|0\t0|0\t0|0\t0|0\t0|0\t0|0\t0|0\t0|0\t0|0\t1|0\t0|0\t0|0\t0|0\t0|0\t0|0\t0|0\t0|0\t0|0\t0|0\t1|0\t0|0\t0|0\t0|0\t0|0\t0|0\t0|0\t0|0\t0|0\t1|0\t0|0\t0|0\t0|0\t0|0\t0|0\t0|0\t0|0\t0|0\t0|1\t0|0\t1|0\t0|0\t0|0\t0|0\t0|0\t0|0\t0|1\t0|0\t0|0\t1|0\t0|0\t0|0\t0|0\t0|0\t0|0\t0|0\t1|0\t0|0\t0|0\t0|0\t0|1\t0|0\t0|0\t0|0\t0|0\t0|0\t0|0\t0|0\t0|0\t0|0\t0|0\t0|0\t0|0\t0|0\t0|0\t0|0\t0|0\t0|0\n",
      "1\t13116\trs62635286\tT\tG\t100\tPASS\tAC=70;AF=0.0970447;AN=400;NS=2504;DP=22340;EAS_AF=0.0248;AMR_AF=0.121;AFR_AF=0.0295;EUR_AF=0.1869;SAS_AF=0.1534;AA=t|||;VT=SNP\tGT\t0|0\t1|0\t0|0\t0|0\t1|0\t0|0\t0|0\t1|0\t0|0\t0|1\t0|0\t0|0\t0|0\t0|1\t0|0\t0|0\t0|0\t0|0\t0|0\t0|0\t0|0\t0|0\t0|0\t1|0\t0|0\t1|0\t0|0\t0|0\t0|0\t0|1\t0|0\t0|1\t0|0\t0|0\t0|0\t0|0\t0|1\t0|0\t0|0\t0|1\t0|0\t1|0\t0|0\t0|0\t0|0\t1|0\t0|0\t0|0\t0|0\t0|0\t0|0\t0|0\t0|0\t0|0\t0|1\t0|1\t0|0\t0|0\t0|0\t0|1\t0|1\t0|0\t0|0\t0|1\t0|0\t0|0\t0|0\t0|1\t0|0\t1|0\t1|0\t0|0\t0|0\t0|0\t0|1\t0|0\t0|0\t0|0\t0|0\t0|1\t0|0\t0|0\t0|0\t0|0\t0|0\t0|0\t0|0\t0|0\t1|0\t0|1\t0|1\t0|0\t0|0\t1|0\t0|0\t0|0\t0|1\t1|0\t1|1\t0|0\t0|0\t0|0\t1|1\t0|0\t0|0\t0|0\t0|1\t0|1\t0|0\t0|0\t0|0\t0|0\t1|0\t0|0\t0|0\t0|0\t0|0\t1|0\t0|1\t1|0\t1|0\t0|0\t0|1\t1|0\t0|0\t0|0\t1|0\t1|0\t0|0\t1|0\t1|0\t0|0\t0|0\t0|1\t0|0\t0|0\t0|0\t0|1\t0|0\t1|1\t0|0\t1|0\t0|1\t0|1\t1|0\t0|0\t0|0\t1|0\t0|0\t0|0\t0|1\t0|1\t1|0\t0|0\t0|1\t0|0\t0|1\t0|0\t1|0\t0|0\t0|1\t0|0\t0|0\t0|0\t1|0\t0|0\t0|0\t0|0\t0|1\t0|0\t0|0\t0|0\t1|0\t0|0\t0|1\t0|0\t0|0\t0|0\t0|1\t0|0\t0|1\t0|0\t1|1\t0|0\t0|0\t0|0\t0|0\t0|0\t0|0\t0|0\t0|0\t0|0\t0|0\t0|0\t0|0\t0|0\t0|0\t0|0\t0|0\t0|0\n",
      "1\t13118\trs200579949\tA\tG\t100\tPASS\tAC=70;AF=0.0970447;AN=400;NS=2504;DP=21395;EAS_AF=0.0248;AMR_AF=0.121;AFR_AF=0.0295;EUR_AF=0.1869;SAS_AF=0.1534;AA=a|||;VT=SNP\tGT\t0|0\t1|0\t0|0\t0|0\t1|0\t0|0\t0|0\t1|0\t0|0\t0|1\t0|0\t0|0\t0|0\t0|1\t0|0\t0|0\t0|0\t0|0\t0|0\t0|0\t0|0\t0|0\t0|0\t1|0\t0|0\t1|0\t0|0\t0|0\t0|0\t0|1\t0|0\t0|1\t0|0\t0|0\t0|0\t0|0\t0|1\t0|0\t0|0\t0|1\t0|0\t1|0\t0|0\t0|0\t0|0\t1|0\t0|0\t0|0\t0|0\t0|0\t0|0\t0|0\t0|0\t0|0\t0|1\t0|1\t0|0\t0|0\t0|0\t0|1\t0|1\t0|0\t0|0\t0|1\t0|0\t0|0\t0|0\t0|1\t0|0\t1|0\t1|0\t0|0\t0|0\t0|0\t0|1\t0|0\t0|0\t0|0\t0|0\t0|1\t0|0\t0|0\t0|0\t0|0\t0|0\t0|0\t0|0\t0|0\t1|0\t0|1\t0|1\t0|0\t0|0\t1|0\t0|0\t0|0\t0|1\t1|0\t1|1\t0|0\t0|0\t0|0\t1|1\t0|0\t0|0\t0|0\t0|1\t0|1\t0|0\t0|0\t0|0\t0|0\t1|0\t0|0\t0|0\t0|0\t0|0\t1|0\t0|1\t1|0\t1|0\t0|0\t0|1\t1|0\t0|0\t0|0\t1|0\t1|0\t0|0\t1|0\t1|0\t0|0\t0|0\t0|1\t0|0\t0|0\t0|0\t0|1\t0|0\t1|1\t0|0\t1|0\t0|1\t0|1\t1|0\t0|0\t0|0\t1|0\t0|0\t0|0\t0|1\t0|1\t1|0\t0|0\t0|1\t0|0\t0|1\t0|0\t1|0\t0|0\t0|1\t0|0\t0|0\t0|0\t1|0\t0|0\t0|0\t0|0\t0|1\t0|0\t0|0\t0|0\t1|0\t0|0\t0|1\t0|0\t0|0\t0|0\t0|1\t0|0\t0|1\t0|0\t1|1\t0|0\t0|0\t0|0\t0|0\t0|0\t0|0\t0|0\t0|0\t0|0\t0|0\t0|0\t0|0\t0|0\t0|0\t0|0\t0|0\t0|0\n",
      "1\t13273\trs531730856\tG\tC\t100\tPASS\tAC=44;AF=0.0950479;AN=400;NS=2504;DP=29117;EAS_AF=0.0625;AMR_AF=0.1455;AFR_AF=0.0204;EUR_AF=0.1471;SAS_AF=0.1401;AA=g|||;VT=SNP\tGT\t0|0\t0|0\t0|0\t0|0\t0|0\t0|0\t0|0\t0|0\t0|1\t0|0\t1|0\t0|0\t0|1\t0|0\t0|0\t0|0\t0|0\t0|0\t1|0\t0|0\t1|0\t0|1\t0|0\t0|0\t0|1\t0|0\t0|0\t1|0\t0|0\t1|0\t0|0\t0|0\t0|0\t0|1\t0|0\t0|1\t0|1\t1|0\t0|1\t0|0\t0|0\t0|0\t0|0\t0|0\t0|0\t0|0\t0|0\t0|0\t0|1\t0|1\t0|0\t0|0\t0|0\t0|0\t0|0\t0|0\t0|0\t0|0\t0|0\t0|0\t0|0\t0|0\t0|1\t0|1\t0|0\t0|1\t0|0\t0|0\t0|0\t1|0\t0|0\t0|0\t0|0\t1|0\t0|0\t0|0\t0|1\t0|0\t0|0\t0|0\t0|0\t0|0\t0|0\t0|0\t0|0\t0|1\t0|0\t0|0\t0|0\t0|1\t0|0\t0|0\t0|1\t0|1\t0|0\t0|0\t0|0\t0|0\t0|0\t0|0\t0|0\t0|0\t1|1\t0|0\t0|0\t0|1\t0|0\t0|0\t0|0\t0|0\t0|0\t0|1\t0|1\t0|0\t0|1\t0|0\t0|0\t0|0\t0|0\t0|0\t0|0\t1|0\t0|0\t0|0\t0|0\t0|0\t0|0\t1|1\t0|0\t0|0\t0|0\t0|1\t0|0\t0|0\t0|0\t0|0\t0|0\t1|0\t0|0\t0|0\t0|0\t0|0\t0|0\t0|0\t0|0\t0|0\t0|0\t0|0\t0|0\t0|0\t0|0\t0|0\t0|0\t0|0\t1|0\t0|0\t0|0\t0|0\t1|0\t0|0\t0|0\t0|0\t0|0\t0|0\t0|1\t0|0\t0|0\t1|0\t0|0\t0|0\t0|0\t0|0\t0|0\t0|0\t0|0\t0|1\t0|0\t0|0\t0|0\t0|0\t0|0\t1|0\t0|0\t0|0\t0|0\t0|0\t0|0\t0|0\t0|0\t0|0\t0|0\t0|0\t0|0\t0|0\t0|0\t0|0\t1|0\t0|0\t0|0\t0|0\n",
      "1\t13543\trs540466151\tT\tG\t100\tPASS\tAC=1;AF=0.000599042;AN=400;NS=2504;DP=40768;EAS_AF=0.003;AMR_AF=0;AFR_AF=0;EUR_AF=0;SAS_AF=0;AA=t|||;VT=SNP\tGT\t0|0\t0|0\t0|0\t0|0\t0|0\t0|0\t0|0\t0|0\t0|0\t0|0\t0|0\t0|0\t0|0\t0|0\t0|0\t0|0\t0|0\t0|0\t0|0\t0|0\t0|0\t0|0\t0|0\t0|0\t0|0\t0|0\t0|0\t0|0\t0|0\t0|0\t0|0\t0|0\t0|0\t0|0\t0|0\t0|0\t0|0\t0|0\t0|0\t0|0\t0|0\t0|0\t0|0\t0|0\t0|0\t0|0\t0|0\t0|0\t0|0\t0|0\t0|0\t0|0\t0|0\t0|0\t0|0\t0|0\t0|0\t0|0\t0|0\t0|0\t0|0\t0|0\t0|0\t0|0\t0|0\t0|0\t0|0\t0|0\t0|0\t0|0\t0|0\t0|0\t0|0\t0|0\t0|0\t0|0\t0|0\t0|0\t0|0\t0|0\t0|0\t0|0\t0|0\t0|0\t0|0\t0|0\t0|0\t0|0\t0|0\t0|0\t0|0\t0|0\t0|0\t0|0\t0|0\t0|0\t0|0\t0|0\t0|0\t0|0\t0|0\t0|0\t0|0\t0|0\t0|0\t0|0\t0|0\t0|0\t0|0\t0|0\t0|0\t0|0\t0|0\t0|0\t0|0\t0|0\t0|0\t0|0\t0|0\t0|0\t0|0\t0|0\t0|0\t0|0\t0|0\t0|0\t0|0\t0|0\t0|0\t0|0\t0|0\t0|0\t0|0\t0|0\t0|0\t0|0\t0|0\t0|0\t0|0\t0|0\t0|0\t0|0\t0|0\t0|0\t0|0\t0|0\t0|0\t0|0\t0|0\t0|0\t0|0\t0|0\t0|0\t0|0\t0|0\t0|0\t0|0\t0|0\t0|0\t0|0\t0|0\t0|0\t0|0\t0|0\t0|0\t0|0\t0|0\t0|0\t0|0\t0|0\t0|0\t0|0\t0|0\t0|0\t0|0\t0|0\t0|0\t0|0\t0|0\t0|0\t0|0\t0|0\t0|0\t0|0\t0|0\t0|0\t0|0\t0|0\t0|0\t0|0\t0|0\t0|0\t0|0\t0|0\t1|0\t0|0\t0|0\t0|0\t0|0\t0|0\n",
      "1\t13550\trs554008981\tG\tA\t100\tPASS\tAC=4;AF=0.00339457;AN=400;NS=2504;DP=39894;EAS_AF=0;AMR_AF=0.0101;AFR_AF=0.0008;EUR_AF=0.008;SAS_AF=0.001;AA=g|||;VT=SNP\tGT\t0|0\t0|0\t0|0\t0|0\t0|0\t0|0\t0|0\t0|0\t0|0\t0|0\t0|0\t0|0\t0|0\t0|0\t0|0\t0|0\t0|0\t0|0\t0|0\t0|0\t0|0\t0|0\t0|0\t0|0\t0|0\t0|0\t0|0\t0|0\t0|0\t0|0\t0|0\t0|0\t0|0\t0|0\t0|0\t0|0\t0|0\t0|0\t0|0\t0|0\t0|0\t0|0\t0|0\t0|0\t0|0\t0|0\t0|0\t0|0\t0|0\t0|0\t0|0\t0|0\t0|0\t0|0\t0|0\t0|0\t1|0\t0|0\t0|0\t0|0\t0|0\t0|0\t0|0\t0|0\t0|0\t0|0\t0|0\t0|0\t0|0\t0|0\t0|0\t0|0\t0|0\t0|0\t0|0\t0|0\t0|0\t0|0\t0|0\t0|0\t0|1\t0|0\t0|0\t0|0\t0|0\t0|0\t0|0\t0|0\t0|0\t0|0\t0|0\t0|0\t0|0\t0|0\t0|0\t0|0\t0|0\t0|0\t0|0\t0|0\t0|0\t0|0\t0|0\t0|0\t0|0\t0|0\t0|0\t0|0\t0|0\t0|0\t0|0\t0|0\t0|0\t0|0\t0|0\t0|0\t0|0\t0|0\t0|0\t0|0\t1|0\t0|0\t0|0\t0|0\t0|0\t0|0\t0|0\t0|0\t0|0\t0|0\t0|0\t0|0\t0|0\t0|0\t0|0\t0|0\t0|0\t0|0\t0|0\t0|0\t0|0\t0|0\t0|0\t0|0\t0|0\t0|0\t0|0\t0|0\t0|0\t0|0\t0|0\t0|0\t0|0\t0|0\t0|0\t0|0\t0|0\t0|0\t0|0\t0|0\t0|0\t0|0\t0|0\t0|0\t0|0\t0|0\t0|0\t0|1\t0|0\t0|0\t0|0\t0|0\t0|0\t0|0\t0|0\t0|0\t0|0\t0|0\t0|0\t0|0\t0|0\t0|0\t0|0\t0|0\t0|0\t0|0\t0|0\t0|0\t0|0\t0|0\t0|0\t0|0\t0|0\t0|0\t0|0\t0|0\t0|0\t0|0\t0|0\t0|0\n",
      "1\t14464\trs546169444\tA\tT\t100\tPASS\tAC=62;AF=0.0958466;AN=400;NS=2504;DP=26761;EAS_AF=0.005;AMR_AF=0.1138;AFR_AF=0.0144;EUR_AF=0.1859;SAS_AF=0.1943;AA=a|||;VT=SNP\tGT\t1|1\t0|0\t1|0\t0|0\t0|0\t0|0\t1|0\t0|0\t1|0\t0|1\t0|0\t0|0\t0|0\t0|0\t1|0\t0|1\t0|0\t0|1\t0|0\t0|0\t0|1\t1|0\t0|0\t0|0\t0|0\t0|0\t0|0\t0|1\t1|0\t0|0\t0|0\t1|1\t0|0\t0|0\t0|0\t0|0\t0|0\t0|0\t0|0\t0|0\t0|1\t0|0\t0|0\t0|0\t0|0\t0|1\t0|1\t0|1\t0|0\t0|0\t0|1\t0|1\t0|0\t1|0\t1|0\t1|0\t1|0\t0|0\t0|0\t0|0\t0|0\t0|0\t1|0\t0|0\t1|1\t0|0\t0|0\t0|0\t0|0\t0|0\t0|0\t0|0\t0|0\t0|0\t0|0\t0|1\t1|0\t0|1\t1|1\t0|0\t0|1\t0|1\t0|0\t0|0\t0|0\t0|0\t0|1\t0|0\t0|0\t0|0\t0|0\t0|0\t1|0\t0|0\t0|0\t0|0\t0|0\t1|0\t0|0\t0|0\t0|0\t0|0\t0|0\t0|0\t1|0\t0|0\t1|0\t1|0\t0|0\t0|0\t0|0\t0|0\t0|0\t0|0\t0|0\t1|1\t0|0\t1|0\t0|0\t0|0\t1|0\t0|1\t0|0\t0|0\t1|0\t0|0\t0|0\t0|0\t0|0\t0|0\t0|0\t0|0\t0|0\t0|0\t0|0\t0|1\t0|0\t0|0\t0|1\t0|0\t1|0\t0|0\t0|0\t0|0\t0|0\t0|0\t0|0\t0|0\t0|0\t0|0\t0|0\t0|0\t1|0\t0|1\t0|0\t0|0\t0|0\t0|0\t0|1\t0|0\t0|0\t0|0\t0|0\t0|1\t0|0\t0|1\t0|0\t0|1\t1|0\t0|1\t0|0\t0|1\t0|0\t0|1\t0|0\t0|0\t0|0\t0|0\t0|0\t0|1\t0|0\t0|0\t0|0\t0|0\t0|0\t0|0\t0|0\t0|0\t0|0\t0|0\t0|0\t0|0\t0|0\t0|0\t0|0\t0|0\t0|0\t0|0\t0|0\t1|0\n",
      "1\t14599\trs531646671\tT\tA\t100\tPASS\tAC=55;AF=0.147564;AN=400;NS=2504;DP=32081;EAS_AF=0.0893;AMR_AF=0.1758;AFR_AF=0.121;EUR_AF=0.161;SAS_AF=0.2096;AA=t|||;VT=SNP\tGT\t0|0\t0|1\t1|0\t0|0\t0|0\t0|0\t0|0\t1|0\t0|0\t0|0\t0|0\t0|0\t0|0\t0|0\t1|0\t0|0\t0|1\t1|0\t1|0\t1|0\t0|0\t0|0\t0|0\t0|0\t1|0\t0|0\t0|0\t0|0\t0|0\t0|1\t1|0\t0|0\t0|0\t1|0\t0|0\t0|0\t0|0\t0|0\t0|0\t0|0\t0|0\t1|1\t0|1\t1|0\t0|0\t0|0\t0|0\t0|0\t0|0\t0|0\t0|0\t0|0\t0|0\t0|0\t0|0\t0|0\t1|0\t0|0\t0|0\t1|1\t0|1\t0|1\t0|1\t0|0\t0|1\t0|0\t0|0\t0|0\t0|1\t0|0\t0|0\t0|0\t0|1\t0|0\t0|0\t0|0\t1|0\t0|0\t0|0\t0|0\t0|0\t0|0\t0|0\t0|0\t0|0\t0|0\t0|0\t0|0\t0|0\t0|0\t0|0\t0|0\t0|1\t0|0\t0|0\t0|0\t0|0\t0|0\t0|0\t0|1\t0|1\t0|0\t0|0\t0|1\t1|0\t1|0\t0|0\t0|0\t0|0\t0|0\t0|1\t0|0\t0|0\t0|0\t0|0\t0|0\t0|0\t1|0\t0|0\t1|0\t1|0\t0|0\t0|1\t0|0\t0|0\t0|0\t0|0\t1|0\t0|0\t0|0\t0|0\t0|0\t0|0\t0|0\t0|0\t0|0\t0|0\t0|0\t0|0\t0|0\t0|0\t0|0\t0|0\t0|0\t0|0\t0|0\t0|0\t0|0\t0|0\t0|0\t0|0\t0|0\t0|0\t0|0\t0|0\t1|0\t0|1\t1|0\t0|0\t0|0\t1|1\t1|0\t0|0\t1|0\t1|0\t0|0\t1|0\t0|1\t0|1\t1|0\t0|0\t0|0\t0|0\t1|0\t0|0\t0|0\t0|0\t0|0\t0|0\t0|0\t0|1\t1|0\t0|0\t0|0\t0|1\t0|0\t0|0\t0|0\t0|0\t0|0\t0|0\t0|0\t0|0\t0|0\t0|0\t1|0\t0|0\t0|0\t0|0\t0|0\n",
      "1\t14604\trs541940975\tA\tG\t100\tPASS\tAC=55;AF=0.147564;AN=400;NS=2504;DP=29231;EAS_AF=0.0893;AMR_AF=0.1758;AFR_AF=0.121;EUR_AF=0.161;SAS_AF=0.2096;AA=a|||;VT=SNP\tGT\t0|0\t0|1\t1|0\t0|0\t0|0\t0|0\t0|0\t1|0\t0|0\t0|0\t0|0\t0|0\t0|0\t0|0\t1|0\t0|0\t0|1\t1|0\t1|0\t1|0\t0|0\t0|0\t0|0\t0|0\t1|0\t0|0\t0|0\t0|0\t0|0\t0|1\t1|0\t0|0\t0|0\t1|0\t0|0\t0|0\t0|0\t0|0\t0|0\t0|0\t0|0\t1|1\t0|1\t1|0\t0|0\t0|0\t0|0\t0|0\t0|0\t0|0\t0|0\t0|0\t0|0\t0|0\t0|0\t0|0\t1|0\t0|0\t0|0\t1|1\t0|1\t0|1\t0|1\t0|0\t0|1\t0|0\t0|0\t0|0\t0|1\t0|0\t0|0\t0|0\t0|1\t0|0\t0|0\t0|0\t1|0\t0|0\t0|0\t0|0\t0|0\t0|0\t0|0\t0|0\t0|0\t0|0\t0|0\t0|0\t0|0\t0|0\t0|0\t0|0\t0|1\t0|0\t0|0\t0|0\t0|0\t0|0\t0|0\t0|1\t0|1\t0|0\t0|0\t0|1\t1|0\t1|0\t0|0\t0|0\t0|0\t0|0\t0|1\t0|0\t0|0\t0|0\t0|0\t0|0\t0|0\t1|0\t0|0\t1|0\t1|0\t0|0\t0|1\t0|0\t0|0\t0|0\t0|0\t1|0\t0|0\t0|0\t0|0\t0|0\t0|0\t0|0\t0|0\t0|0\t0|0\t0|0\t0|0\t0|0\t0|0\t0|0\t0|0\t0|0\t0|0\t0|0\t0|0\t0|0\t0|0\t0|0\t0|0\t0|0\t0|0\t0|0\t0|0\t1|0\t0|1\t1|0\t0|0\t0|0\t1|1\t1|0\t0|0\t1|0\t1|0\t0|0\t1|0\t0|1\t0|1\t1|0\t0|0\t0|0\t0|0\t1|0\t0|0\t0|0\t0|0\t0|0\t0|0\t0|0\t0|1\t1|0\t0|0\t0|0\t0|1\t0|0\t0|0\t0|0\t0|0\t0|0\t0|0\t0|0\t0|0\t0|0\t0|0\t1|0\t0|0\t0|0\t0|0\t0|0\n",
      "1\t14719\trs527865771\tC\tA\t100\tPASS\tAC=1;AF=0.000199681;AN=400;NS=2504;DP=29713;EAS_AF=0;AMR_AF=0;AFR_AF=0;EUR_AF=0.001;SAS_AF=0;AA=c|||;VT=SNP;EX_TARGET\tGT\t0|0\t0|0\t0|0\t0|0\t0|0\t0|0\t0|0\t0|0\t0|0\t0|0\t0|0\t0|0\t0|0\t0|0\t0|0\t0|0\t0|0\t0|0\t0|0\t0|0\t0|0\t0|0\t0|0\t0|0\t1|0\t0|0\t0|0\t0|0\t0|0\t0|0\t0|0\t0|0\t0|0\t0|0\t0|0\t0|0\t0|0\t0|0\t0|0\t0|0\t0|0\t0|0\t0|0\t0|0\t0|0\t0|0\t0|0\t0|0\t0|0\t0|0\t0|0\t0|0\t0|0\t0|0\t0|0\t0|0\t0|0\t0|0\t0|0\t0|0\t0|0\t0|0\t0|0\t0|0\t0|0\t0|0\t0|0\t0|0\t0|0\t0|0\t0|0\t0|0\t0|0\t0|0\t0|0\t0|0\t0|0\t0|0\t0|0\t0|0\t0|0\t0|0\t0|0\t0|0\t0|0\t0|0\t0|0\t0|0\t0|0\t0|0\t0|0\t0|0\t0|0\t0|0\t0|0\t0|0\t0|0\t0|0\t0|0\t0|0\t0|0\t0|0\t0|0\t0|0\t0|0\t0|0\t0|0\t0|0\t0|0\t0|0\t0|0\t0|0\t0|0\t0|0\t0|0\t0|0\t0|0\t0|0\t0|0\t0|0\t0|0\t0|0\t0|0\t0|0\t0|0\t0|0\t0|0\t0|0\t0|0\t0|0\t0|0\t0|0\t0|0\t0|0\t0|0\t0|0\t0|0\t0|0\t0|0\t0|0\t0|0\t0|0\t0|0\t0|0\t0|0\t0|0\t0|0\t0|0\t0|0\t0|0\t0|0\t0|0\t0|0\t0|0\t0|0\t0|0\t0|0\t0|0\t0|0\t0|0\t0|0\t0|0\t0|0\t0|0\t0|0\t0|0\t0|0\t0|0\t0|0\t0|0\t0|0\t0|0\t0|0\t0|0\t0|0\t0|0\t0|0\t0|0\t0|0\t0|0\t0|0\t0|0\t0|0\t0|0\t0|0\t0|0\t0|0\t0|0\t0|0\t0|0\t0|0\t0|0\t0|0\t0|0\t0|0\t0|0\t0|0\t0|0\t0|0\t0|0\n",
      "1\t14930\trs75454623\tA\tG\t100\tPASS\tAC=204;AF=0.482228;AN=400;NS=2504;DP=42231;EAS_AF=0.4137;AMR_AF=0.5231;AFR_AF=0.4811;EUR_AF=0.5209;SAS_AF=0.4857;AA=a|||;VT=SNP\tGT\t1|0\t0|1\t0|1\t1|0\t1|0\t0|1\t0|1\t0|1\t0|1\t0|1\t1|0\t1|0\t1|0\t1|1\t0|1\t0|1\t1|0\t0|1\t0|1\t1|0\t0|1\t0|1\t0|1\t0|1\t0|1\t0|1\t0|1\t1|0\t0|1\t1|0\t0|1\t1|0\t0|1\t1|0\t1|0\t1|0\t1|0\t1|0\t0|1\t1|0\t1|1\t0|1\t0|1\t1|1\t1|0\t0|1\t1|0\t0|1\t1|0\t0|1\t0|1\t1|1\t0|1\t0|1\t1|1\t0|1\t1|0\t0|1\t1|0\t1|1\t0|1\t1|0\t0|1\t1|0\t1|0\t0|1\t0|1\t0|1\t1|0\t0|1\t0|1\t0|1\t0|1\t0|1\t1|1\t1|0\t0|1\t1|0\t0|1\t1|0\t0|0\t1|0\t0|1\t0|1\t0|1\t1|0\t0|0\t0|0\t1|0\t1|0\t0|1\t0|1\t1|0\t0|1\t1|0\t1|0\t0|1\t1|0\t1|1\t1|0\t0|1\t1|1\t0|1\t0|1\t1|0\t0|1\t0|1\t1|0\t1|0\t1|0\t0|1\t1|0\t0|1\t1|0\t1|0\t1|0\t1|0\t1|0\t0|1\t1|0\t0|1\t0|1\t1|1\t0|0\t1|0\t0|1\t1|0\t1|0\t1|0\t1|0\t1|0\t0|0\t0|1\t0|1\t1|0\t1|0\t0|1\t0|1\t1|0\t1|0\t1|0\t0|1\t1|0\t1|1\t1|1\t1|0\t0|0\t1|1\t0|1\t1|0\t0|1\t1|1\t0|1\t0|1\t1|0\t1|1\t1|1\t0|1\t0|1\t0|1\t1|0\t0|1\t0|0\t0|1\t0|1\t1|0\t0|1\t0|0\t1|0\t0|1\t1|0\t0|1\t0|1\t0|1\t0|0\t0|1\t1|0\t1|1\t1|0\t1|0\t1|0\t1|0\t0|1\t0|0\t0|1\t1|0\t0|1\t1|0\t0|0\t1|0\t0|1\t0|0\t0|1\t0|1\t0|1\t0|0\t0|1\t0|1\t1|0\t1|0\n",
      "1\t14933\trs199856693\tG\tA\t100\tPASS\tAC=22;AF=0.0283546;AN=400;NS=2504;DP=40247;EAS_AF=0.0268;AMR_AF=0.0375;AFR_AF=0.0015;EUR_AF=0.0507;SAS_AF=0.0368;AA=g|||;VT=SNP\tGT\t0|0\t0|0\t0|0\t0|0\t0|0\t0|0\t0|0\t0|0\t0|0\t0|0\t1|0\t0|0\t0|0\t0|1\t0|0\t0|0\t0|0\t0|0\t0|0\t0|0\t0|0\t0|0\t0|1\t0|0\t0|0\t0|0\t0|0\t0|0\t0|0\t0|0\t0|0\t0|0\t0|0\t0|0\t0|0\t0|0\t0|0\t0|0\t0|0\t0|0\t0|0\t0|0\t0|0\t0|1\t0|0\t0|0\t0|0\t0|0\t0|0\t0|0\t0|0\t1|0\t0|0\t0|0\t0|0\t0|0\t0|0\t0|0\t0|0\t0|1\t0|0\t0|0\t0|0\t0|0\t0|0\t0|0\t0|0\t0|0\t0|0\t0|0\t0|0\t0|0\t0|0\t0|0\t0|1\t0|0\t0|0\t0|0\t0|0\t0|0\t0|0\t0|0\t0|1\t0|0\t0|0\t0|0\t0|0\t0|0\t0|0\t0|0\t0|0\t0|0\t0|0\t0|0\t0|0\t0|0\t0|1\t0|0\t0|1\t0|0\t0|0\t0|1\t0|0\t0|0\t0|0\t0|0\t0|0\t0|0\t0|0\t0|0\t0|0\t0|0\t0|1\t0|0\t0|0\t0|0\t0|0\t0|0\t0|0\t0|0\t0|0\t0|0\t0|1\t0|0\t0|0\t0|0\t0|0\t0|0\t0|0\t0|0\t0|0\t0|0\t0|0\t0|1\t0|0\t0|0\t0|0\t0|0\t0|0\t0|0\t0|0\t0|0\t0|0\t1|0\t0|0\t0|0\t0|0\t0|0\t0|0\t0|0\t0|0\t0|0\t0|0\t0|0\t0|0\t0|0\t1|0\t0|1\t0|0\t0|1\t0|0\t0|0\t0|0\t0|0\t0|0\t0|0\t0|0\t0|0\t0|0\t0|1\t0|0\t0|1\t0|0\t0|0\t0|0\t0|0\t0|0\t0|1\t0|0\t1|0\t0|0\t0|0\t0|0\t0|0\t0|0\t0|0\t0|0\t0|0\t0|0\t0|0\t0|0\t0|0\t0|0\t0|0\t0|0\t0|0\t0|0\t0|0\t0|0\t0|0\n"
     ]
    }
   ],
   "source": [
    "!bcftools view --no-header -r 1:1-15000 {downsampled_bcf} "
   ]
  },
  {
   "cell_type": "markdown",
   "id": "a527c014-fcd5-4bbf-bc57-3ac6edc5e5bf",
   "metadata": {},
   "source": [
    "More examples to be added in future versions of this notebook.\n"
   ]
  }
 ],
 "metadata": {
  "kernelspec": {
   "display_name": "Python 3 (ipykernel)",
   "language": "python",
   "name": "python3"
  },
  "language_info": {
   "codemirror_mode": {
    "name": "ipython",
    "version": 3
   },
   "file_extension": ".py",
   "mimetype": "text/x-python",
   "name": "python",
   "nbconvert_exporter": "python",
   "pygments_lexer": "ipython3",
   "version": "3.10.16"
  }
 },
 "nbformat": 4,
 "nbformat_minor": 5
}
